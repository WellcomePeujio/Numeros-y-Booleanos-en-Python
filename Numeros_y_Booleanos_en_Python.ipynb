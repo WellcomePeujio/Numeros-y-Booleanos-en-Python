{
  "cells": [
    {
      "cell_type": "markdown",
      "metadata": {
        "id": "view-in-github",
        "colab_type": "text"
      },
      "source": [
        "<a href=\"https://colab.research.google.com/github/WellcomePeujio/Numeros-y-Booleanos-en-Python/blob/main/Numeros_y_Booleanos_en_Python.ipynb\" target=\"_parent\"><img src=\"https://colab.research.google.com/assets/colab-badge.svg\" alt=\"Open In Colab\"/></a>"
      ]
    },
    {
      "cell_type": "markdown",
      "id": "f909a4c2",
      "metadata": {
        "id": "f909a4c2"
      },
      "source": [
        "\n",
        "### Lección: Números y Booleanos en Python\n",
        "\n",
        "En Python, es fundamental entender los tipos de datos numéricos y booleanos, ya que son la base para muchas operaciones en programación. Esta lección te guiará a través de cómo trabajar con números enteros, flotantes y valores booleanos en Python.\n"
      ]
    },
    {
      "cell_type": "markdown",
      "id": "f80fd7fe",
      "metadata": {
        "id": "f80fd7fe"
      },
      "source": [
        "\n",
        "#### 1. Números Enteros y Flotantes\n",
        "\n",
        "##### 1.1 Números Enteros\n",
        "Los **números enteros** son números positivos o negativos sin un punto decimal. Son útiles para contar objetos, realizar operaciones aritméticas sencillas y más.\n"
      ]
    },
    {
      "cell_type": "code",
      "execution_count": 3,
      "id": "8b6e9d58",
      "metadata": {
        "collapsed": true,
        "colab": {
          "base_uri": "https://localhost:8080/"
        },
        "id": "8b6e9d58",
        "outputId": "aa5cb53f-8f11-4316-dc7a-0e15b2f0f465"
      },
      "outputs": [
        {
          "output_type": "execute_result",
          "data": {
            "text/plain": [
              "int"
            ]
          },
          "metadata": {},
          "execution_count": 3
        }
      ],
      "source": [
        "\n",
        "x1 = 5\n",
        "type(x1)\n"
      ]
    },
    {
      "cell_type": "markdown",
      "id": "ab1c648d",
      "metadata": {
        "id": "ab1c648d"
      },
      "source": [
        "\n",
        "##### 1.2 Números Flotantes\n",
        "Los **números flotantes** son números reales que contienen un punto decimal. Son útiles cuando necesitas representar valores más precisos, como decimales en cálculos financieros.\n"
      ]
    },
    {
      "cell_type": "code",
      "execution_count": 4,
      "id": "1080427c",
      "metadata": {
        "colab": {
          "base_uri": "https://localhost:8080/"
        },
        "id": "1080427c",
        "outputId": "1e270db1-c6f6-46f0-be48-c7beb7b746fc"
      },
      "outputs": [
        {
          "output_type": "execute_result",
          "data": {
            "text/plain": [
              "float"
            ]
          },
          "metadata": {},
          "execution_count": 4
        }
      ],
      "source": [
        "\n",
        "x2 = 4.75\n",
        "type(x2)\n"
      ]
    },
    {
      "cell_type": "markdown",
      "id": "ee467a3b",
      "metadata": {
        "id": "ee467a3b"
      },
      "source": [
        "\n",
        "#### 2. Transformación de Tipos\n",
        "\n",
        "A veces, necesitas convertir entre enteros y flotantes. Python proporciona funciones integradas para hacer esto fácilmente.\n"
      ]
    },
    {
      "cell_type": "code",
      "execution_count": 5,
      "id": "4d532afc",
      "metadata": {
        "colab": {
          "base_uri": "https://localhost:8080/"
        },
        "id": "4d532afc",
        "outputId": "3ae137bc-12ad-4d35-cb10-b4532fb6445f"
      },
      "outputs": [
        {
          "output_type": "execute_result",
          "data": {
            "text/plain": [
              "int"
            ]
          },
          "metadata": {},
          "execution_count": 5
        }
      ],
      "source": [
        "\n",
        "x3 = int(x2)\n",
        "type(x3)\n"
      ]
    },
    {
      "cell_type": "code",
      "execution_count": 6,
      "id": "ccf848f2",
      "metadata": {
        "colab": {
          "base_uri": "https://localhost:8080/"
        },
        "id": "ccf848f2",
        "outputId": "bc0935ad-8c8b-4d7e-f415-c4f79fc782a6"
      },
      "outputs": [
        {
          "output_type": "execute_result",
          "data": {
            "text/plain": [
              "float"
            ]
          },
          "metadata": {},
          "execution_count": 6
        }
      ],
      "source": [
        "\n",
        "x4 = float(x1)\n",
        "type(x4)\n"
      ]
    },
    {
      "cell_type": "markdown",
      "id": "8f912728",
      "metadata": {
        "id": "8f912728"
      },
      "source": [
        "\n",
        "#### 3. Valores Booleanos\n",
        "\n",
        "Los **valores booleanos** en Python son representaciones lógicas que pueden ser `True` (verdadero) o `False` (falso). Son muy útiles en estructuras de control y para tomar decisiones en el código.\n"
      ]
    },
    {
      "cell_type": "code",
      "execution_count": 7,
      "id": "c5ee144c",
      "metadata": {
        "colab": {
          "base_uri": "https://localhost:8080/"
        },
        "id": "c5ee144c",
        "outputId": "7c263cd6-6dd5-4b99-9791-cb0c0dfb78c9"
      },
      "outputs": [
        {
          "output_type": "execute_result",
          "data": {
            "text/plain": [
              "bool"
            ]
          },
          "metadata": {},
          "execution_count": 7
        }
      ],
      "source": [
        "\n",
        "x5 = True\n",
        "type(x5)\n"
      ]
    },
    {
      "cell_type": "markdown",
      "id": "b2ba0315",
      "metadata": {
        "id": "b2ba0315"
      },
      "source": [
        "\n",
        "##### 3.2 Consideraciones Importantes\n",
        "\n",
        "- En Python, `True` y `False` deben escribirse con la primera letra en mayúscula.\n",
        "- Si escribes `true` en minúscula, Python no reconocerá la variable como booleana y lanzará un error.\n"
      ]
    },
    {
      "cell_type": "markdown",
      "id": "e8082ace",
      "metadata": {
        "id": "e8082ace"
      },
      "source": [
        "\n",
        "#### Resumen\n",
        "- Los números en Python pueden ser enteros (`int`) o flotantes (`float`).\n",
        "- Puedes convertir entre enteros y flotantes usando las funciones `int()` y `float()`.\n",
        "- Los booleanos (`bool`) son valores lógicos que solo pueden ser `True` o `False`.\n",
        "\n",
        "Esta lección te da las herramientas básicas para empezar a trabajar con números y booleanos en Python, elementos esenciales para la mayoría de los programas que escribirás. ¡Practica estos conceptos para afianzarlos!\n"
      ]
    }
  ],
  "metadata": {
    "colab": {
      "provenance": [],
      "include_colab_link": true
    },
    "language_info": {
      "name": "python"
    },
    "kernelspec": {
      "name": "python3",
      "display_name": "Python 3"
    }
  },
  "nbformat": 4,
  "nbformat_minor": 5
}